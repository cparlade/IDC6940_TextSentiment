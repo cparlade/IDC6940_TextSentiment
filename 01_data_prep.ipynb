{
 "cells": [
  {
   "cell_type": "code",
   "execution_count": 1,
   "id": "b7cb1d07",
   "metadata": {},
   "outputs": [
    {
     "name": "stdout",
     "output_type": "stream",
     "text": [
      "Wrote data/processed/vader_preds.csv rows: 453\n"
     ]
    }
   ],
   "source": [
    "import pathlib, pandas as pd\n",
    "from vaderSentiment.vaderSentiment import SentimentIntensityAnalyzer\n",
    "\n",
    "PROC = pathlib.Path(\"data/processed\")\n",
    "df = pd.read_csv(PROC/\"phrasebank_test.csv\").reset_index().rename(columns={\"index\":\"id\"})\n",
    "\n",
    "ana = SentimentIntensityAnalyzer()\n",
    "def to_label(c):\n",
    "    if c >= 0.05: return \"positive\"\n",
    "    if c <= -0.05: return \"negative\"\n",
    "    return \"neutral\"\n",
    "\n",
    "df[\"pred\"] = [to_label(ana.polarity_scores(t)[\"compound\"]) for t in df[\"sentence\"]]\n",
    "df.to_csv(PROC/\"vader_preds.csv\", index=False)\n",
    "print(\"Wrote\", PROC/\"vader_preds.csv\", \"rows:\", len(df))"
   ]
  },
  {
   "cell_type": "code",
   "execution_count": 3,
   "id": "b12997dc",
   "metadata": {},
   "outputs": [
    {
     "data": {
      "application/vnd.jupyter.widget-view+json": {
       "model_id": "6b03ba287e55430b80b3027d54595ea5",
       "version_major": 2,
       "version_minor": 0
      },
      "text/plain": [
       "tokenizer_config.json:   0%|          | 0.00/252 [00:00<?, ?B/s]"
      ]
     },
     "metadata": {},
     "output_type": "display_data"
    },
    {
     "data": {
      "application/vnd.jupyter.widget-view+json": {
       "model_id": "ff7a7e8923174ad3b73d01318d2f1473",
       "version_major": 2,
       "version_minor": 0
      },
      "text/plain": [
       "config.json:   0%|          | 0.00/758 [00:00<?, ?B/s]"
      ]
     },
     "metadata": {},
     "output_type": "display_data"
    },
    {
     "data": {
      "application/vnd.jupyter.widget-view+json": {
       "model_id": "3b6b45d0bd0b4a86b2ef0490f7070364",
       "version_major": 2,
       "version_minor": 0
      },
      "text/plain": [
       "vocab.txt: 0.00B [00:00, ?B/s]"
      ]
     },
     "metadata": {},
     "output_type": "display_data"
    },
    {
     "data": {
      "application/vnd.jupyter.widget-view+json": {
       "model_id": "935a0e3783d94f38a8fbf326506f970b",
       "version_major": 2,
       "version_minor": 0
      },
      "text/plain": [
       "special_tokens_map.json:   0%|          | 0.00/112 [00:00<?, ?B/s]"
      ]
     },
     "metadata": {},
     "output_type": "display_data"
    },
    {
     "data": {
      "application/vnd.jupyter.widget-view+json": {
       "model_id": "3ebc98ce37f94d65a73572ae72b97a17",
       "version_major": 2,
       "version_minor": 0
      },
      "text/plain": [
       "pytorch_model.bin:   0%|          | 0.00/438M [00:00<?, ?B/s]"
      ]
     },
     "metadata": {},
     "output_type": "display_data"
    },
    {
     "data": {
      "application/vnd.jupyter.widget-view+json": {
       "model_id": "7cca70f11514447495d647aceba099b4",
       "version_major": 2,
       "version_minor": 0
      },
      "text/plain": [
       "model.safetensors:   0%|          | 0.00/438M [00:00<?, ?B/s]"
      ]
     },
     "metadata": {},
     "output_type": "display_data"
    },
    {
     "name": "stderr",
     "output_type": "stream",
     "text": [
      "/workspaces/IDC6940_TextSentiment/.venv/lib/python3.12/site-packages/torch/nn/modules/module.py:1762: FutureWarning: `encoder_attention_mask` is deprecated and will be removed in version 4.55.0 for `BertSdpaSelfAttention.forward`.\n",
      "  return forward_call(*args, **kwargs)\n"
     ]
    },
    {
     "name": "stdout",
     "output_type": "stream",
     "text": [
      "Wrote data/processed/finbert_preds.csv rows: 453\n"
     ]
    }
   ],
   "source": [
    "\n",
    "import torch\n",
    "from transformers import AutoTokenizer, AutoModelForSequenceClassification\n",
    "\n",
    "PROC = pathlib.Path(\"data/processed\")\n",
    "df = pd.read_csv(PROC/\"phrasebank_test.csv\").reset_index().rename(columns={\"index\":\"id\"})\n",
    "\n",
    "tok = AutoTokenizer.from_pretrained(\"ProsusAI/finbert\")\n",
    "model = AutoModelForSequenceClassification.from_pretrained(\"ProsusAI/finbert\")\n",
    "model.eval()\n",
    "id2label = {int(k): v.lower() for k, v in model.config.id2label.items()}\n",
    "\n",
    "def predict_batch(texts, max_length=64):\n",
    "    enc = tok(texts, return_tensors=\"pt\", truncation=True, padding=True, max_length=max_length)\n",
    "    with torch.no_grad():\n",
    "        logits = model(**enc).logits\n",
    "    return [id2label[i] for i in logits.argmax(dim=-1).tolist()]\n",
    "\n",
    "batch = 32\n",
    "preds = []\n",
    "for i in range(0, len(df), batch):\n",
    "    preds.extend(predict_batch(df[\"sentence\"].iloc[i:i+batch].tolist()))\n",
    "\n",
    "out = df.copy()\n",
    "out[\"pred\"] = preds\n",
    "out.to_csv(PROC/\"finbert_preds.csv\", index=False)\n",
    "print(\"Wrote\", PROC/\"finbert_preds.csv\", \"rows:\", len(out))\n"
   ]
  }
 ],
 "metadata": {
  "kernelspec": {
   "display_name": ".venv",
   "language": "python",
   "name": "python3"
  },
  "language_info": {
   "codemirror_mode": {
    "name": "ipython",
    "version": 3
   },
   "file_extension": ".py",
   "mimetype": "text/x-python",
   "name": "python",
   "nbconvert_exporter": "python",
   "pygments_lexer": "ipython3",
   "version": "3.12.1"
  }
 },
 "nbformat": 4,
 "nbformat_minor": 5
}
